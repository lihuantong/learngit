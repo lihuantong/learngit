{
 "cells": [
  {
   "cell_type": "code",
   "execution_count": 44,
   "metadata": {},
   "outputs": [
    {
     "name": "stdout",
     "output_type": "stream",
     "text": [
      "loss最小的迭代次数： 155\n",
      "loss最小值： 0.597025409577\n",
      "准确率最大的迭代次数： 18\n",
      "准确率最大值： 0.8771929824561403\n"
     ]
    },
    {
     "data": {
      "image/png": "[encoded data removed]",
      "text/plain": [
       "<matplotlib.figure.Figure at 0x6d40636cc0>"
      ]
     },
     "metadata": {},
     "output_type": "display_data"
    }
   ],
   "source": [
    "import numpy as np\n",
    "import matplotlib.pyplot as plt\n",
    "from sklearn.datasets import load_svmlight_file\n",
    "from sklearn.cross_validation import train_test_split \n",
    "x,y = load_svmlight_file(\"E:/australian_scale.txt\")\n",
    "x=x.toarray()\n",
    "m, n = np.shape(x)\n",
    "a=np.ones((m))\n",
    "X=np.column_stack((x,a))\n",
    "X_train, X_test, y_train, y_test = train_test_split(X,y,test_size=0.33,random_state=0)\n",
    "m_train,n_train= np.shape(X_train)\n",
    "m_test,n_test= np.shape(X_test)\n",
    "w = np.zeros(n+1)\n",
    "W=w.transpose()\n",
    "C=0.9\n",
    "η = 0.1\n",
    "epoch=200\n",
    "Iteration=range(0,epoch+1)\n",
    "Ltrain=[]\n",
    "Lvalidation=[]\n",
    "accurancy=[]\n",
    "def g(x,y,i):\n",
    "    return 1-np.dot(y[i],np.dot(W.transpose(),x[i].transpose()))\n",
    "for i in range(0,epoch+1):\n",
    "    loss_train = 0\n",
    "    for j in range(m_train):\n",
    "        loss_train += C*max(0,g(X_train,y_train,j))\n",
    "    loss_train /=m_train\n",
    "    loss_train += np.dot(W.transpose(),W)/2\n",
    "    Ltrain.append(loss_train) \n",
    "    loss_test= 0\n",
    "    for k in range(m_test):\n",
    "        loss_test += C*max(0,g(X_test,y_test,k))\n",
    "    loss_test /=m_test\n",
    "    loss_test += np.dot(W.transpose(),W)/2\n",
    "    Lvalidation.append(loss_test)\n",
    "    y_predict=np.dot(W.transpose(),X_test.transpose())\n",
    "    y_predict[y_predict>0]=1\n",
    "    y_predict[y_predict<0]=-1 \n",
    "    count=0\n",
    "    for l in range(len(y_predict)):\n",
    "        if y_predict[l]==y_test[l]:\n",
    "            count +=1\n",
    "    accurancy.append(count/m_test)\n",
    "    gradient=0\n",
    "    for m in range(m_train):\n",
    "        if g(X_train,y_train,m)>=0:\n",
    "            gradient -=C*np.dot(y_train[m], X_train[m].transpose())\n",
    "    gradient /=m_train\n",
    "    gradient +=W\n",
    "    W -=η*gradient\n",
    "print(\"loss最小的迭代次数：\",Lvalidation.index(min(Lvalidation)))\n",
    "print(\"loss最小值：\",min(Lvalidation))\n",
    "print(\"准确率最大的迭代次数：\",accurancy.index(max(accurancy)))\n",
    "print(\"准确率最大值：\",max(accurancy))\n",
    "plt.plot(Iteration,Ltrain,'r',label='Ltrain') \n",
    "plt.plot(Iteration, Lvalidation,'b',label='Lvalidation')\n",
    "plt.xlabel(\"epoch\")\n",
    "plt.ylabel(\"Loss\")\n",
    "plt.show()\n"
   ]
  },
  {
   "cell_type": "code",
   "execution_count": null,
   "metadata": {
    "collapsed": true
   },
   "outputs": [],
   "source": []
  }
 ],
 "metadata": {
  "kernelspec": {
   "display_name": "Python 3",
   "language": "python",
   "name": "python3"
  },
  "language_info": {
   "codemirror_mode": {
    "name": "ipython",
    "version": 3
   },
   "file_extension": ".py",
   "mimetype": "text/x-python",
   "name": "python",
   "nbconvert_exporter": "python",
   "pygments_lexer": "ipython3",
   "version": "3.6.3"
  }
 },
 "nbformat": 4,
 "nbformat_minor": 2
}
